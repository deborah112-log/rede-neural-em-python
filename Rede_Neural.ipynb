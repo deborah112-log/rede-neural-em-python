{
  "nbformat": 4,
  "nbformat_minor": 0,
  "metadata": {
    "colab": {
      "provenance": [],
      "authorship_tag": "ABX9TyOXH+mOye80lpnTEZ4MYCS7"
    },
    "kernelspec": {
      "name": "python3",
      "display_name": "Python 3"
    },
    "language_info": {
      "name": "python"
    }
  },
  "cells": [
    {
      "cell_type": "code",
      "execution_count": null,
      "metadata": {
        "id": "ALcoELFNNaZV"
      },
      "outputs": [],
      "source": [
        "import numpy as np \n",
        "import torch \n",
        "import torch.nn.functional as F \n",
        "import torchvision \n",
        "import matplotlib.pyplot as plt \n",
        "from time import time \n",
        "from torchvision import datasets, transforms\n",
        "from torch import nn, optim"
      ]
    },
    {
      "cell_type": "code",
      "source": [
        "transform = transforms.ToTensor() \n",
        "\n",
        "trainset = datasets.MNIST('./MNIST_data/', download=True, train=True, transform=transform) \n",
        "trainloader = torch.utils.data.DataLoader(trainset, batch_size=64, shuffle=True) \n",
        "\n",
        "valset = datasets.MNIST('./MNIST_data/', download=True, train=False, transform=transform) \n",
        "valloader = torch.utils.data.DataLoader(valset, batch_size=64, shuffle=True) "
      ],
      "metadata": {
        "id": "2Sge5yxWNeaT"
      },
      "execution_count": null,
      "outputs": []
    },
    {
      "cell_type": "code",
      "source": [
        "dataiter = iter(trainloader) \n",
        "imagens, etiquetas = dataiter.next() \n",
        "plt.imshow(imagens[0].numpy().squeeze(), cmap='gray_r');"
      ],
      "metadata": {
        "id": "9ZC8B7TjNh77"
      },
      "execution_count": null,
      "outputs": []
    },
    {
      "cell_type": "code",
      "source": [
        "print(imagens[0].shape) \n",
        "print(etiquetas[0].shape) \n"
      ],
      "metadata": {
        "id": "TG40Kt_1NlT7"
      },
      "execution_count": null,
      "outputs": []
    },
    {
      "cell_type": "code",
      "source": [
        "class Modelo(nn.Module):\n",
        "  def __init__(self):\n",
        "      super(Modelo, self).__init__()\n",
        "      self.linear1 = nn.Linear(28*28, 128) \n",
        "      self.linear2 = nn.Linear(128, 64) \n",
        "      self.linear3 = nn.Linear(64, 10) \n",
        "      \n",
        "\n",
        "  def forward(self,x):\n",
        "      X = F.relu(self.linear1(x)) \n",
        "      X = F.relu(self.linear2(x)) \n",
        "      X = self.linear3(x) \n",
        "      return F.log_softmax(X, dim=1)\n"
      ],
      "metadata": {
        "id": "moxKTBaBNoNs"
      },
      "execution_count": null,
      "outputs": []
    },
    {
      "cell_type": "code",
      "source": [
        "def treino(modelo, trainloader, device):\n",
        "\n",
        "    otimizador = optim.SGD(modelo.parameters(), lr=0.01, momentum=0.5) \n",
        "    inicio = time() \n",
        "\n",
        "    criterio = nn.NLLLoss()\n",
        "    EPOCHS = 10 \n",
        "    modelo.train()\n",
        "\n",
        "    for epoch in range(EPOCHS):\n",
        "        perda_acumulada = 0 \n",
        "\n",
        "        for imagens, etiquetas in trainloader:\n",
        "\n",
        "            imagens = imagens.view(imagens.shape[0], -1) \n",
        "            otimizador.zero_grad() \n",
        "\n",
        "            output = modelo(imagens.to(device)) \n",
        "            perda_instantanea = criterio(output, etiquetas.to(device)) \n",
        "            \n",
        "            perda_instantanea.backward()\n",
        "\n",
        "            otimizador.step() \n",
        "\n",
        "            perda_acumulada += perda_instantanea.item() \n",
        "\n",
        "        else:\n",
        "            print(\"Epoch {} - Perda resultante: {}\".format(epoch+1, perda_acumulada/len(trainloader)))\n",
        "        print(\"Tempo de treino (em minutos) = \", (time()-inicio)/60)\n"
      ],
      "metadata": {
        "id": "c7ZcWKzzNrdj"
      },
      "execution_count": null,
      "outputs": []
    },
    {
      "cell_type": "code",
      "source": [
        "def validacao(modelo, valloader, device):\n",
        "    conta_corretas, conta_todas = 0, 0\n",
        "    for imagens, etiquetas in valloader:\n",
        "      for i in range(len(etiquetas)):\n",
        "        img = imagens[i].view(1, 784)\n",
        "        \n",
        "        with torch.no_grad():\n",
        "            logps = modelo(img.to(device)) \n",
        "\n",
        "        ps = torch.exp(logps) \n",
        "        probab = list(ps.cpu().numpy()[0])\n",
        "        etiqueta_pred = probab.index(max(probab)) \n",
        "        etiqueta_certa = etiquetas.numpy()[i]\n",
        "        if(etiqueta_certa == etiqueta_pred): \n",
        "          conta_corretas += 1 \n",
        "        conta_todas += 1\n",
        "    print(\"Total de imagens testadas = \", conta_todas)\n",
        "    print(\"Precisão do modelo = {}%\".format(conta_corretas*100/conta_todas))"
      ],
      "metadata": {
        "id": "bEf1fux2NvsE"
      },
      "execution_count": null,
      "outputs": []
    },
    {
      "cell_type": "code",
      "source": [
        "modelo = Modelo() \n",
        "device = torch.device(\"cuda\" if torch.cuda.is_available() else \"cpu\") \n",
        "modelo.to(device)"
      ],
      "metadata": {
        "id": "LIXSTzy-Nz3E"
      },
      "execution_count": null,
      "outputs": []
    }
  ]
}